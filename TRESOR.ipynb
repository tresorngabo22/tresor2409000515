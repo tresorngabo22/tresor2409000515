{
  "nbformat": 4,
  "nbformat_minor": 0,
  "metadata": {
    "colab": {
      "provenance": [],
      "authorship_tag": "ABX9TyP8X/sywBBefzUz10plFJTi",
      "include_colab_link": true
    },
    "kernelspec": {
      "name": "python3",
      "display_name": "Python 3"
    },
    "language_info": {
      "name": "python"
    }
  },
  "cells": [
    {
      "cell_type": "markdown",
      "metadata": {
        "id": "view-in-github",
        "colab_type": "text"
      },
      "source": [
        "<a href=\"https://colab.research.google.com/github/tresorngabo22/tresor2409000515/blob/main/TRESOR.ipynb\" target=\"_parent\"><img src=\"https://colab.research.google.com/assets/colab-badge.svg\" alt=\"Open In Colab\"/></a>"
      ]
    },
    {
      "cell_type": "code",
      "execution_count": null,
      "metadata": {
        "colab": {
          "base_uri": "https://localhost:8080/"
        },
        "id": "DJSgy3YIHDeC",
        "outputId": "471721e5-0529-402a-b9ca-58a22e9f3923"
      },
      "outputs": [
        {
          "output_type": "stream",
          "name": "stdout",
          "text": [
            "Encrypted message: b'gAAAAABnriEuK73-3EfaKeOgWLFSNGhwBSJkMv8qiVNrpBIN9nMkIZ17MOdj1CJ_aUm63f4TPBVJocYs4c-jY-_-te5BFaVT0o0_zHljjJ1-0WwUiq1IKeM='\n",
            "Decrypted message: first_name: Tresor muhoza\n"
          ]
        }
      ],
      "source": [
        "from cryptography.fernet import Fernet\n",
        "\n",
        "# Generate key\n",
        "key = Fernet.generate_key()\n",
        "cipher_suite = Fernet(key)\n",
        "\n",
        "# Message to encrypt\n",
        "message = b\"first_name: Tresor muhoza\"\n",
        "\n",
        "# Encrypt the message\n",
        "encrypted_message = cipher_suite.encrypt(message)\n",
        "print(\"Encrypted message:\", encrypted_message)\n",
        "\n",
        "# Decrypt the message\n",
        "decrypted_message = cipher_suite.decrypt(encrypted_message)\n",
        "print(\"Decrypted message:\", decrypted_message.decode())\n",
        "\n",
        "\n"
      ]
    },
    {
      "cell_type": "code",
      "source": [
        "from google.colab import drive\n",
        "drive.mount('/content/drive')"
      ],
      "metadata": {
        "id": "2iUL1goVNLp4"
      },
      "execution_count": null,
      "outputs": []
    },
    {
      "cell_type": "markdown",
      "source": [],
      "metadata": {
        "id": "h-GH-edrNxyN"
      }
    }
  ]
}